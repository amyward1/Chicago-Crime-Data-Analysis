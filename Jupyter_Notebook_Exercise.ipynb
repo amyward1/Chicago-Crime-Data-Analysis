{
 "cells": [
  {
   "cell_type": "markdown",
   "id": "25f7244f",
   "metadata": {},
   "source": [
    "INSTRUCTIONS: You will do a data quality check on the file of your choice. \n",
    "    Using this file add your code below each comment."
   ]
  },
  {
   "cell_type": "markdown",
   "id": "743103b4",
   "metadata": {},
   "source": [
    "Import the file\n"
   ]
  },
  {
   "cell_type": "markdown",
   "id": "f3065080",
   "metadata": {},
   "source": [
    "Assess the data quality. Include the following and at least 3 additional data quality checks. \n",
    "Use the list provided in the class notes to guide you. \n",
    "\n",
    "-count of rows (by itself)\\\n",
    "-count of columns (by itself)\\\n",
    "-number of missing values\\\n",
    "-show unique values in a single column\\\n",
    "-show data types\n",
    " "
   ]
  },
  {
   "cell_type": "markdown",
   "id": "05969ba3",
   "metadata": {},
   "source": [
    "Get info of the dataframe, assign a value, write the results to a csv file"
   ]
  }
 ],
 "metadata": {
  "kernelspec": {
   "display_name": "Python 3 (ipykernel)",
   "language": "python",
   "name": "python3"
  },
  "language_info": {
   "codemirror_mode": {
    "name": "ipython",
    "version": 3
   },
   "file_extension": ".py",
   "mimetype": "text/x-python",
   "name": "python",
   "nbconvert_exporter": "python",
   "pygments_lexer": "ipython3",
   "version": "3.9.7"
  }
 },
 "nbformat": 4,
 "nbformat_minor": 5
}
